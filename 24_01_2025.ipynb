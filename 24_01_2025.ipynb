{
  "nbformat": 4,
  "nbformat_minor": 0,
  "metadata": {
    "colab": {
      "provenance": []
    },
    "kernelspec": {
      "name": "python3",
      "display_name": "Python 3"
    },
    "language_info": {
      "name": "python"
    }
  },
  "cells": [
    {
      "cell_type": "code",
      "execution_count": 1,
      "metadata": {
        "id": "vEcK6p1qBn9e"
      },
      "outputs": [],
      "source": [
        "import spacy\n",
        "nlp=spacy.load('en_core_web_sm')"
      ]
    },
    {
      "cell_type": "code",
      "source": [
        "s=nlp('This is a test sentence')"
      ],
      "metadata": {
        "id": "cZ6-m3dtByzL"
      },
      "execution_count": 4,
      "outputs": []
    },
    {
      "cell_type": "code",
      "source": [
        "type(s)"
      ],
      "metadata": {
        "colab": {
          "base_uri": "https://localhost:8080/"
        },
        "id": "R_LnCY0QDL4E",
        "outputId": "04d9c1c0-f9d9-4bea-e2aa-45a648fc509c"
      },
      "execution_count": 5,
      "outputs": [
        {
          "output_type": "execute_result",
          "data": {
            "text/plain": [
              "spacy.tokens.doc.Doc"
            ]
          },
          "metadata": {},
          "execution_count": 5
        }
      ]
    },
    {
      "cell_type": "code",
      "source": [
        "s=nlp('This is U.S Country. Welcome here. I did my B.tech from here')"
      ],
      "metadata": {
        "id": "txT4qJgWDPwd"
      },
      "execution_count": 16,
      "outputs": []
    },
    {
      "cell_type": "code",
      "source": [
        "for sentence in s.sents:\n",
        "  print(sentence)"
      ],
      "metadata": {
        "colab": {
          "base_uri": "https://localhost:8080/"
        },
        "id": "cAoRwWcZDgDB",
        "outputId": "b0a42fa6-dc58-42a2-96d7-4f918b21c618"
      },
      "execution_count": 17,
      "outputs": [
        {
          "output_type": "stream",
          "name": "stdout",
          "text": [
            "This is U.S Country.\n",
            "Welcome here.\n",
            "I did my B.tech from here\n"
          ]
        }
      ]
    },
    {
      "cell_type": "code",
      "source": [
        "for word in p:\n",
        "  print(f\"{word}-{word.pos_}\")"
      ],
      "metadata": {
        "colab": {
          "base_uri": "https://localhost:8080/"
        },
        "id": "3a3rSceLEAk5",
        "outputId": "56c03686-18e4-47a7-9d84-76a21f34f751"
      },
      "execution_count": 27,
      "outputs": [
        {
          "output_type": "stream",
          "name": "stdout",
          "text": [
            "The-DET\n",
            "boy-NOUN\n",
            "is-AUX\n",
            "running-VERB\n",
            "while-SCONJ\n",
            "talking-VERB\n",
            "on-ADP\n",
            "the-DET\n",
            "phone-NOUN\n",
            "while-SCONJ\n",
            "calling-VERB\n",
            "friends-NOUN\n",
            "for-ADP\n",
            "party-NOUN\n",
            "indexes-NOUN\n"
          ]
        }
      ]
    },
    {
      "cell_type": "code",
      "source": [
        "#stemming and lemmatization\n",
        "p=nlp(\"The boy is running while talking on the phone while calling friends for party indexes\")\n",
        "\n"
      ],
      "metadata": {
        "id": "tOpTrksdFZ5v"
      },
      "execution_count": 23,
      "outputs": []
    },
    {
      "cell_type": "code",
      "source": [
        "for word in p:\n",
        "  print(f'{word}-{word.lemma_}')"
      ],
      "metadata": {
        "colab": {
          "base_uri": "https://localhost:8080/"
        },
        "id": "9VRdxPNoGXlP",
        "outputId": "22c3e02b-4052-43a0-c071-3b90d3e2ffe8"
      },
      "execution_count": 24,
      "outputs": [
        {
          "output_type": "stream",
          "name": "stdout",
          "text": [
            "The-the\n",
            "boy-boy\n",
            "is-be\n",
            "running-run\n",
            "while-while\n",
            "talking-talk\n",
            "on-on\n",
            "the-the\n",
            "phone-phone\n",
            "while-while\n",
            "calling-call\n",
            "friends-friend\n",
            "for-for\n",
            "party-party\n",
            "indexes-index\n"
          ]
        }
      ]
    },
    {
      "cell_type": "code",
      "source": [
        "#named entity recognition\n",
        "text = nlp(\"When Sebastian Thrun living in USA chicago started working on self-driving cars at Google in feb 20 2007,\\\n",
        " few people outside of the company took him seriously.\")"
      ],
      "metadata": {
        "id": "vGcOWTZJGnjM"
      },
      "execution_count": 38,
      "outputs": []
    },
    {
      "cell_type": "code",
      "source": [
        "for word in text.ents:\n",
        "  print(word)\n"
      ],
      "metadata": {
        "colab": {
          "base_uri": "https://localhost:8080/"
        },
        "id": "1vULIp9rHsK4",
        "outputId": "b8db9f0a-113a-4a03-f10c-4a5e2fedae81"
      },
      "execution_count": 39,
      "outputs": [
        {
          "output_type": "stream",
          "name": "stdout",
          "text": [
            "Sebastian Thrun\n",
            "USA\n",
            "Google\n",
            "feb 20 2007\n"
          ]
        }
      ]
    },
    {
      "cell_type": "code",
      "source": [
        "for word in text.ents:\n",
        "  print({word}-{word.label_})\n"
      ],
      "metadata": {
        "colab": {
          "base_uri": "https://localhost:8080/"
        },
        "id": "qh2h2u1kIDtz",
        "outputId": "87d3f57a-675f-4750-8d43-556b2d6027be"
      },
      "execution_count": 30,
      "outputs": [
        {
          "output_type": "stream",
          "name": "stdout",
          "text": [
            "{Sebastian Thrun}\n",
            "{Google}\n",
            "{2007}\n"
          ]
        }
      ]
    },
    {
      "cell_type": "code",
      "source": [
        "from spacy import displacy\n",
        "displacy.serve(text,style=\"ent\")"
      ],
      "metadata": {
        "colab": {
          "base_uri": "https://localhost:8080/",
          "height": 249
        },
        "id": "2Uewka_sIaQz",
        "outputId": "76719db0-b323-4e2a-df71-9a9667088563"
      },
      "execution_count": 35,
      "outputs": [
        {
          "output_type": "display_data",
          "data": {
            "text/plain": [
              "<IPython.core.display.HTML object>"
            ],
            "text/html": [
              "<span class=\"tex2jax_ignore\"><!DOCTYPE html>\n",
              "<html lang=\"en\">\n",
              "    <head>\n",
              "        <title>displaCy</title>\n",
              "    </head>\n",
              "\n",
              "    <body style=\"font-size: 16px; font-family: -apple-system, BlinkMacSystemFont, 'Segoe UI', Helvetica, Arial, sans-serif, 'Apple Color Emoji', 'Segoe UI Emoji', 'Segoe UI Symbol'; padding: 4rem 2rem; direction: ltr\">\n",
              "<figure style=\"margin-bottom: 6rem\">\n",
              "<div class=\"entities\" style=\"line-height: 2.5; direction: ltr\">When \n",
              "<mark class=\"entity\" style=\"background: #aa9cfc; padding: 0.45em 0.6em; margin: 0 0.25em; line-height: 1; border-radius: 0.35em;\">\n",
              "    Sebastian Thrun\n",
              "    <span style=\"font-size: 0.8em; font-weight: bold; line-height: 1; border-radius: 0.35em; vertical-align: middle; margin-left: 0.5rem\">PERSON</span>\n",
              "</mark>\n",
              " living in \n",
              "<mark class=\"entity\" style=\"background: #feca74; padding: 0.45em 0.6em; margin: 0 0.25em; line-height: 1; border-radius: 0.35em;\">\n",
              "    USA\n",
              "    <span style=\"font-size: 0.8em; font-weight: bold; line-height: 1; border-radius: 0.35em; vertical-align: middle; margin-left: 0.5rem\">GPE</span>\n",
              "</mark>\n",
              " chicago started working on self-driving cars at \n",
              "<mark class=\"entity\" style=\"background: #7aecec; padding: 0.45em 0.6em; margin: 0 0.25em; line-height: 1; border-radius: 0.35em;\">\n",
              "    Google\n",
              "    <span style=\"font-size: 0.8em; font-weight: bold; line-height: 1; border-radius: 0.35em; vertical-align: middle; margin-left: 0.5rem\">ORG</span>\n",
              "</mark>\n",
              " in \n",
              "<mark class=\"entity\" style=\"background: #bfe1d9; padding: 0.45em 0.6em; margin: 0 0.25em; line-height: 1; border-radius: 0.35em;\">\n",
              "    feb 20 2007\n",
              "    <span style=\"font-size: 0.8em; font-weight: bold; line-height: 1; border-radius: 0.35em; vertical-align: middle; margin-left: 0.5rem\">DATE</span>\n",
              "</mark>\n",
              ", few people outside of the company took him seriously.</div>\n",
              "</figure>\n",
              "</body>\n",
              "</html></span>"
            ]
          },
          "metadata": {}
        },
        {
          "output_type": "stream",
          "name": "stdout",
          "text": [
            "\n",
            "Using the 'ent' visualizer\n",
            "Serving on http://0.0.0.0:5000 ...\n",
            "\n",
            "Shutting down server on port 5000.\n"
          ]
        }
      ]
    },
    {
      "cell_type": "code",
      "source": [],
      "metadata": {
        "id": "ov-rbZLKI9W-"
      },
      "execution_count": null,
      "outputs": []
    }
  ]
}